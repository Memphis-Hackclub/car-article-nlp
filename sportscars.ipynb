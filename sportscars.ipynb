{
  "nbformat": 4,
  "nbformat_minor": 0,
  "metadata": {
    "colab": {
      "name": "sportscars.ipynb",
      "provenance": [],
      "authorship_tag": "ABX9TyNzNIBU+r53AkpUq/qae7D6",
      "include_colab_link": true
    },
    "kernelspec": {
      "name": "python3",
      "display_name": "Python 3"
    },
    "language_info": {
      "name": "python"
    }
  },
  "cells": [
    {
      "cell_type": "markdown",
      "metadata": {
        "id": "view-in-github",
        "colab_type": "text"
      },
      "source": [
        "<a href=\"https://colab.research.google.com/github/philip-hub/car-article-nlp/blob/main/sportscars.ipynb\" target=\"_parent\"><img src=\"https://colab.research.google.com/assets/colab-badge.svg\" alt=\"Open In Colab\"/></a>"
      ]
    },
    {
      "cell_type": "code",
      "metadata": {
        "id": "pUZIuB9nm4th"
      },
      "source": [
        "Nissan240sx = \"\"\"First Generation (S13; 1989–1994)[edit]\n",
        "See also: Nissan Silvia S13\n",
        "The very first generation of the 240SX can be divided into two distinct versions, both having the sporting advantage of rear wheel drive standard. Each of these variants came in two distinct body styles: hatchback, which was offered in both base and SE trim, LE trim, and coupe, which was offered in base, XE, LE and SE. Both styles shared the same front bodywork as the Japanese-market Nissan 180SX, featuring the sloping front with pop-up headlights. This bodywork distinguishes the coupe model from its Japanese-market counterpart, the Silvia, which featured fixed headlights. Both styles in all markets share the same chassis, and with few exceptions, most components and features are identical. The 240SX is a popular car in the sport of drifting due to its long wheelbase,[1] low cost, ample power, light weight, well balanced chassis and abundant aftermarket support.\n",
        "\n",
        "\n",
        "1991-1993 240SX LE Coupe\n",
        "1989 and 1990 models are powered by a naturally aspirated 140 hp (100 kW), 152 lb⋅ft (206 N⋅m) 2,389 cc (2.4 L; 145.8 cu in) SOHC KA24E engine with 3 valves per cylinder (instead of the turbo-charged and intercooled 1.8-liter DOHC CA18DET offered in Japan and Europe in the 180SX and Silvia). Four-wheel disc brakes were standard, with antilock brakes available as an option on the SE. Both models were offered with either a 4-speed automatic or 5-speed manual transmission. \"Coupes\" offered a Heads-up display (HUD) with a digital speedometer as part of the optional Power Convenience Group.\n",
        "The 240SX received some updates in 1991. The matte silver, teardrop wheels were replaced by polished aluminium 7-spoke wheels that had better brake cooling properties but more drag. The nose was smoothed out by getting rid of the non-functional slots and gave back the aerodynamic efficiencies lost by the wheels. This gave the car an overhaul that included a minor update of the exterior and a new cylinder head. A new \"LE\" hatchback trim package was added that included leather interior. The SOHC KA24E was replaced by the DOHC KA24DE, now with 4 valves per cylinder, rated at 155 bhp (157 PS; 116 kW) at 5,600 rpm and 160 lb⋅ft (217 N⋅m) at 4,400 rpm of torque. An optional sports package including ABS, a limited slip differential, and Nissan's HICAS four wheel steering was now available on hatchback models.\n",
        "\n",
        "\n",
        "The facelift model Nissan 240SX SE Fastback (S13) in the USA.\n",
        "The S13 was known for sharp steering and handling (thanks to front MacPherson struts and a rear multilink suspension) and relatively light weight (2700 lb) but was regarded in the automotive press as being underpowered. The engine, while durable and relatively torquey, was a heavy iron-block truck unit that produced meager power for its relatively large size. It was only modestly improved by the change to the DOHC version in 1991. Furthermore, despite the modest power output, relatively low vehicle weight, and good aerodynamics, gas mileage was mediocre. These engines are the primary difference between the North American 240SX and the world-market Silvia/180SX/200SX. The KA24DE did not come turbocharged while the SR20DET did. The U.S. version was regarded as a highly capable sports car that only needed a better engine. Other differences include a standard limited slip differential on overseas and Canadian models, available digital climate control in Japan, and manual seat belts standard in Japan and Canada vs. automatic restraint seatbelts in America.\n",
        "\"\"\"\n",
        "\n",
        "MazdaMx5 = \"\"\"The MX-5 was unveiled at the Chicago Auto Show on February 10, 1989, with a price tag of US$14,000.[2] The MX-5, with production code NA, was made available for delivery to buyers worldwide in the following dates: May 1989 (as a 1990 model) in the US and Canada; September 1, 1989 in Japan; and 1990 in Europe. An optional hardtop was made available at the same time, in sheet moulding compound (SMC). Demand initially outstripped production, fueled by enthusiastic press reviews.\n",
        "In Japan, the car was not badged as a Mazda, as the company was in the process of launching different marques for deluxe models, similar to Nissan's Infiniti, Honda's Acura and Toyota's Lexus. Instead, the Mazda MX-5 was sold as the Eunos Roadster, and was joined by the MX-3/AZ-3/Eunos Presso (based on Japanese Mazda dealerships). The exterior dimensions and the engine displacement were also in compliance with Japanese Government compact car regulation.\n",
        "\n",
        "\n",
        "Mazda MX-5 with hardtop (Australia)\n",
        "The body shell of the NA was all-steel with a lightweight aluminum hood. Overall dimensions were 3,970 mm (156 in) in length, 1,675 mm (65.9 in) in width, and 1,235 mm (48.6 in) in height. Without options, the NA weighed only 980 kg (2,160 lb). It had a drag coefficient of Cd=0.38. Suspension was an independent double wishbone on all four wheels, with an anti-roll bar at the front and rear. Four-wheel disc brakes, ventilated at the front, were behind alloy wheels with 185/60HR14 radial tires. The base model came with stamped steel wheels from the then-current 323/Protege.\n",
        "\n",
        "\n",
        "1990 Mazda MX-5 1600cc DOHC 4-cylinder engine. This example has been modified with the addition of a GReddy TD04 (Mitsubishi) turbocharger kit\n",
        "The original MX-5, with standard manual transmission, came with a 1.6 L (98 cu in) DOHC inline four-cylinder engine, producing 86 kW (115 bhp) at 6,500 rpm, and 136 N⋅m (100 lbf⋅ft) of torque at 5,500 rpm. The engine employs an electronic fuel injection system using a vane-type air flow meter and an electronic ignition system with a camshaft angle sensor instead of a distributor.[3] This engine, codenamed B6ZE(RS), was specifically designed for the MX-5 and featured a lightened crankshaft, flywheel, and aluminum sump with cooling fins. An MX-5 with the optional automatic transmission had its 1.6L engine tuned to develop peak torque at lower rpm's (136 Nm, 100 lbf-ft at 4000 rpm) to better mate with the automatic transmission gearing and torque requirements. This tuning resulted in a lower peak power of 78.5 kW (105 bhp) at 6500 rpm.[4]\n",
        "The standard transmission was a five-speed manual, derived from the one used in the Mazda 929/Luce (also rear-wheel drive).[5] The gear shift was the subject of close attention during development, with engineers told to make it shift in as small a gear pattern as possible and with minimal effort.[6] In Japan and the US, an optional automatic transmission was also offered. The Japanese and American markets also received an optional viscous limited-slip differential, although it was only available for cars with a manual transmission. To achieve the low introductory price, the base model was stripped. It had steel wheels, manual steering, roll-up windows, and no stereo or air-conditioning. Power steering, air-conditioning, and stereo were added as standard equipment in later years.\"\"\"\n",
        "\n",
        "HondaS2000 =\"\"\"The Honda S2000 is an open top sports car that was manufactured by Japanese automobile manufacturer Honda, from 1999 to 2009. First shown as a concept car at the Tokyo Motor Show in 1995, the production version was launched on April 15, 1999 to celebrate the company's 50th anniversary. The S2000 is named for its engine displacement of two liters, carrying on in the tradition of the S500, S600, and S800 roadsters of the 1960s.\n",
        "\n",
        "\n",
        "S2000 logo\n",
        "Several revisions were made throughout the car's production life, including changes to the engine, gearbox, suspension, interior and exterior. Officially two variants exist: the initial launch model was given the chassis code AP1; though cosmetically similar, the facelifted version, known as the AP2 in North America and Japan, incorporated significant changes to the drivetrain and suspension. Production of the S2000 ceased on August 19th 2009.\n",
        "The Honda S2000 was notable for its exceptional specific power output of about 124 hp per litre, or about two horsepower per cubic inch, the highest of any mass production, naturally aspirated engined car.[2]\n",
        "\"\"\"\n",
        "\n",
        "Supra =\"\"\"This redesign saw Toyota placing great emphasis on a more serious high-performance car. The A80 featured two new engines: a naturally aspirated Toyota 2JZ-GE having a power output of 164 kW (220 hp; 223 PS) at 5,800 rpm and 210 lb⋅ft (285 N⋅m) at 4,800 rpm of torque and a twin turbocharged Toyota 2JZ-GTE having a power output of 206 kW (276 hp; 280 PS) and 318 lb⋅ft (431 N⋅m) of torque for the Japanese model. For the export model (American/European markets) Toyota upgraded the Supra turbo's engine (by installing smaller, steel wheeled turbochargers and bigger fuel injectors, etc.). This increased the power output to 239 kW (321 hp; 325 PS)at 5,600 rpm and 315 lb⋅ft (427 N⋅m) of torque at 4,000 rpm (243 kW (326 hp; 330 PS) and 325 lb⋅ft (441 N⋅m) for European markets) Upon its launch in 1993, it was the first Toyota-badged vehicle to include a passenger airbag as standard (US-market only).[23]\n",
        "\n",
        "The turbocharged variant could accelerate 0–97 km/h (0–60 mph) in as low as 4.6 seconds and cover 402 m (1⁄4 mile) in 13.1 seconds at 175 km/h (109 mph).[33] Car and Driver magazine includes a rollout in their 4.6 seconds test (typically about 0.3 second) that they subtract from the acceleration figures.[34] The turbo version has a tested top speed of 257 km/h (160 mph),[35] but the cars are restricted to just 180 km/h (112 mph) in Japan and 250 km/h (155 mph) in worldwide markets. European versions of the car also had an air intake or scoop on the hood. It has a drag coefficient of Cd=0.31 for the naturally aspirated models and 0.32 for the turbo models but unknown with the rear spoiler.\"\"\"\n",
        "\n",
        "fileDict = {'240sx.txt':Nissan240sx , 'mx5.txt':MazdaMx5, 's2000.txt':HondaS2000, 'supra.txt':Supra}"
      ],
      "execution_count": 7,
      "outputs": []
    }
  ]
}